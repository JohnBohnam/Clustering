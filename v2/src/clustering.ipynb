{
 "cells": [
  {
   "cell_type": "code",
   "execution_count": 3,
   "metadata": {},
   "outputs": [
    {
     "name": "stdout",
     "output_type": "stream",
     "text": [
      "resized image shape: (2, 2, 3)\n",
      "[0 1 2 3]\n",
      "[[0.08627451 0.05882353 0.27843137]\n",
      " [0.28235294 0.45882353 0.00392157]\n",
      " [0.09411765 0.10588235 0.43529412]\n",
      " [0.40784314 0.4        0.02745098]]\n"
     ]
    },
    {
     "data": {
      "image/png": "[encoded data removed]",
      "text/plain": [
       "<Figure size 640x480 with 1 Axes>"
      ]
     },
     "metadata": {},
     "output_type": "display_data"
    }
   ],
   "source": [
    "from hierarhical_clustering import hierarchical_lance_williams as clustering\n",
    "import cv2\n",
    "import numpy as np\n",
    "import matplotlib.pyplot as plt\n",
    "\n",
    "\n",
    "max_pixels = 2000\n",
    "\n",
    "def resize_image(image):\n",
    "    width, height = image.shape[:2]\n",
    "    ratio = 1\n",
    "    if width * height > max_pixels:\n",
    "        ratio = max_pixels / (width * height)\n",
    "    return cv2.resize(image, (0, 0), fx=ratio, fy=ratio)\n",
    "\n",
    "def reverse_rgb(rgb_arr):\n",
    "    return np.array([rgb_arr[:, 2], rgb_arr[:, 1], rgb_arr[:, 0]]).T\n",
    "\n",
    "def centers_from_labels(labels, X):\n",
    "    centers = []\n",
    "    for i in range(len(np.unique(labels))):\n",
    "        centers.append(np.mean(X[labels == i], axis=0))\n",
    "    return np.array(centers)\n",
    "\n",
    "def get_dominating_colors(image, k):\n",
    "    image = resize_image(image)\n",
    "    image = image / 255\n",
    "    print(\"resized image shape:\", image.shape)\n",
    "    labels, padre = clustering(image.reshape(-1, 3), k)\n",
    "    print(np.unique(labels))\n",
    "    return centers_from_labels(labels, image.reshape(-1, 3))\n",
    "\n",
    "def plot_dominating_colors(colors):\n",
    "    colors = reverse_rgb(colors)\n",
    "    plt.imshow([colors])\n",
    "    plt.axis('off')\n",
    "    plt.show()\n",
    "    \n",
    "    \n",
    "if __name__ == '__main__':\n",
    "    image_path = '../data/afghan_girl.jpg'\n",
    "    \n",
    "    image = cv2.imread(image_path)\n",
    "    colors = get_dominating_colors(image, 10)\n",
    "    print(colors)\n",
    "    plot_dominating_colors(colors)\n"
   ]
  },
  {
   "cell_type": "code",
   "execution_count": null,
   "metadata": {},
   "outputs": [],
   "source": []
  }
 ],
 "metadata": {
  "kernelspec": {
   "display_name": "Python 3",
   "language": "python",
   "name": "python3"
  },
  "language_info": {
   "codemirror_mode": {
    "name": "ipython",
    "version": 3
   },
   "file_extension": ".py",
   "mimetype": "text/x-python",
   "name": "python",
   "nbconvert_exporter": "python",
   "pygments_lexer": "ipython3",
   "version": "3.10.12"
  }
 },
 "nbformat": 4,
 "nbformat_minor": 2
}
